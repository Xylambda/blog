{
 "cells": [
  {
   "cell_type": "markdown",
   "metadata": {},
   "source": [
    "# PyTorch vs TensorFlow vs NumPy\n",
    "> In this post I perform a simple set of benchmarks to assess the speed of PyTorch, Tensorflow and Numpy in different situations.\n",
    "\n",
    "- toc:true\n",
    "- badges: true\n",
    "- comments: true\n",
    "- author: Alejandro PS\n",
    "- categories: [python, numpy, pytorch, tensorflow]"
   ]
  },
  {
   "cell_type": "markdown",
   "metadata": {},
   "source": [
    "# Introduction\n",
    "When it comes to Deep Learning I consider PyTorch as my default framework. It is easy to use, fast, elegant and debugging is pretty intuitive. The alternative the market offers is TensorFlow, which combined with Keras provides a powerful tool to create complex models.\n",
    "\n",
    "On the other hand, in my day-to-day basis I use NumPy, a well-known library to create and manipulate arrays that supports other libraries (such as Pandas or Scikit-Learn).\n",
    "\n",
    "Although NumPy does not fall in the Deep Learning frameworks category, I think it is natural to ask which one of these frameworks performs better as a tool to manipulate Tensors.\n",
    "\n",
    "In this post, I try to cast some light by benchmarking the speed of these three libraries."
   ]
  },
  {
   "cell_type": "code",
   "execution_count": 1,
   "metadata": {},
   "outputs": [],
   "source": [
    "#collapse\n",
    "import time\n",
    "import torch\n",
    "import numpy as np\n",
    "import pandas as pd\n",
    "import tensorflow as tf\n",
    "import matplotlib.pyplot as plt\n",
    "\n",
    "plt.style.use(\"ggplot\")"
   ]
  },
  {
   "cell_type": "code",
   "execution_count": 2,
   "metadata": {},
   "outputs": [
    {
     "name": "stderr",
     "output_type": "stream",
     "text": [
      "/Library/Frameworks/Python.framework/Versions/3.7/lib/python3.7/site-packages/statsmodels/tools/_testing.py:19: FutureWarning: pandas.util.testing is deprecated. Use the functions in the public API at pandas.testing instead.\n",
      "  import pandas.util.testing as tm\n"
     ]
    }
   ],
   "source": [
    "#hide\n",
    "import seaborn as sns\n",
    "sns.set(font='Franklin Gothic Book',\n",
    "        rc={\n",
    " 'axes.axisbelow': False,\n",
    " 'axes.edgecolor': 'lightgrey',\n",
    " 'axes.facecolor': 'None',\n",
    " 'axes.grid': False,\n",
    " 'axes.labelcolor': 'dimgrey',\n",
    " 'axes.spines.right': False,\n",
    " 'axes.spines.top': False,\n",
    " 'figure.facecolor': 'white',\n",
    " 'lines.solid_capstyle': 'round',\n",
    " 'patch.edgecolor': 'w',\n",
    " 'patch.force_edgecolor': True,\n",
    " 'text.color': 'dimgrey',\n",
    " 'xtick.bottom': False,\n",
    " 'xtick.color': 'dimgrey',\n",
    " 'xtick.direction': 'out',\n",
    " 'xtick.top': False,\n",
    " 'ytick.color': 'dimgrey',\n",
    " 'ytick.direction': 'out',\n",
    " 'ytick.left': False,\n",
    " 'ytick.right': False})\n",
    "sns.set_context(\"notebook\", rc={\"font.size\":16,\n",
    "                                \"axes.titlesize\":20,\n",
    "                                \"axes.labelsize\":18})"
   ]
  },
  {
   "cell_type": "markdown",
   "metadata": {},
   "source": [
    "The current versions I'm using for this experiment are"
   ]
  },
  {
   "cell_type": "code",
   "execution_count": 3,
   "metadata": {},
   "outputs": [
    {
     "name": "stdout",
     "output_type": "stream",
     "text": [
      "numpy==1.18.5\r\n",
      "tensorflow==2.3.1\r\n",
      "tensorflow-estimator==2.3.0\r\n",
      "torch==1.7.0\r\n"
     ]
    }
   ],
   "source": [
    "!pip freeze | grep \"torch\\|numpy\\|tensorflow\""
   ]
  },
  {
   "cell_type": "markdown",
   "metadata": {},
   "source": [
    "The specs of my PC:"
   ]
  },
  {
   "cell_type": "code",
   "execution_count": 4,
   "metadata": {},
   "outputs": [
    {
     "name": "stdout",
     "output_type": "stream",
     "text": [
      "Intel(R) Core(TM) i7-9750H CPU @ 2.60GHz\r\n"
     ]
    }
   ],
   "source": [
    "!sysctl -n machdep.cpu.brand_string"
   ]
  },
  {
   "cell_type": "code",
   "execution_count": 27,
   "metadata": {},
   "outputs": [
    {
     "data": {
      "text/plain": [
       "'16.0 GB'"
      ]
     },
     "execution_count": 27,
     "metadata": {},
     "output_type": "execute_result"
    }
   ],
   "source": [
    "mem = !sysctl -n hw.memsize\n",
    "f\"{int(mem[0]) / (1024**3)} GB\""
   ]
  },
  {
   "cell_type": "markdown",
   "metadata": {},
   "source": [
    "Lastly, I am running TensorFlow in eager mode to make my life easier."
   ]
  },
  {
   "cell_type": "code",
   "execution_count": 26,
   "metadata": {},
   "outputs": [
    {
     "data": {
      "text/plain": [
       "True"
      ]
     },
     "execution_count": 26,
     "metadata": {},
     "output_type": "execute_result"
    }
   ],
   "source": [
    "tf.executing_eagerly()"
   ]
  },
  {
   "cell_type": "markdown",
   "metadata": {},
   "source": [
    "# The experiments\n",
    "The procedure is simple. Test a set of operations for different sizes on the three libraries. Store the results and study them at the end.\n",
    "\n",
    "The experiments are:\n",
    "1. **Creation:** study time required to create tensor-like structures.\n",
    "2. **Sorting:** analyze time to sort a tensor-like variable.\n",
    "3. **Matrix multiplication:** check time to multiply to tensors.\n",
    "4. **Searching/Traversing:** test time required to perform a linear search (traverse the structure).\n",
    "\n",
    "\n",
    "## Creation\n",
    "In this section, the speed for creating array-like structures will be tested for the three libraries."
   ]
  },
  {
   "cell_type": "code",
   "execution_count": 6,
   "metadata": {},
   "outputs": [],
   "source": [
    "# sizes to study\n",
    "SIZES = [1000000, 50000000, 100000000, 200000000, 500000000]"
   ]
  },
  {
   "cell_type": "code",
   "execution_count": 7,
   "metadata": {},
   "outputs": [],
   "source": [
    "#collapse\n",
    "np_creation = np.zeros(len(SIZES))\n",
    "torch_creation = np.zeros(len(SIZES))\n",
    "tf_creation = np.zeros(len(SIZES))"
   ]
  },
  {
   "cell_type": "code",
   "execution_count": 8,
   "metadata": {},
   "outputs": [],
   "source": [
    "#collapse\n",
    "for i, size in enumerate(SIZES):\n",
    "    start = time.time()\n",
    "    tf.random.uniform(shape=(size,))\n",
    "\n",
    "    end = time.time()\n",
    "    tf_creation[i] = end - start"
   ]
  },
  {
   "cell_type": "code",
   "execution_count": 9,
   "metadata": {},
   "outputs": [],
   "source": [
    "#collapse\n",
    "for i, size in enumerate(SIZES):\n",
    "    start = time.time()\n",
    "    np.random.rand(size)\n",
    "\n",
    "    end = time.time()\n",
    "    np_creation[i] = end - start"
   ]
  },
  {
   "cell_type": "code",
   "execution_count": 10,
   "metadata": {},
   "outputs": [],
   "source": [
    "#collapse\n",
    "for i, size in enumerate(SIZES):\n",
    "    start = time.time()\n",
    "    torch.rand(size)\n",
    "\n",
    "    end = time.time()\n",
    "    torch_creation[i] = end - start"
   ]
  },
  {
   "cell_type": "markdown",
   "metadata": {},
   "source": [
    "## Sorting\n",
    "Sorting is one of the most difficult tasks for a processor. Moving elements from register to register takes a lot of time. This makes it a perfect candidate to test the speed of a particular framework."
   ]
  },
  {
   "cell_type": "code",
   "execution_count": 11,
   "metadata": {},
   "outputs": [],
   "source": [
    "#collapse\n",
    "np_sort = np.zeros(len(SIZES))\n",
    "torch_sort = np.zeros(len(SIZES))\n",
    "tf_sort = np.zeros(len(SIZES))"
   ]
  },
  {
   "cell_type": "code",
   "execution_count": 12,
   "metadata": {},
   "outputs": [],
   "source": [
    "#collapse-show\n",
    "for i, size in enumerate(SIZES):\n",
    "    _to_sort = tf.random.uniform(shape=(size,))\n",
    "    \n",
    "    start = time.time()\n",
    "    \n",
    "    tf.sort(_to_sort, axis=-1, direction=\"ASCENDING\")\n",
    "    \n",
    "    end = time.time()\n",
    "    \n",
    "    tf_sort[i] = end - start"
   ]
  },
  {
   "cell_type": "code",
   "execution_count": 13,
   "metadata": {},
   "outputs": [],
   "source": [
    "#collapse\n",
    "for i, size in enumerate(SIZES):\n",
    "    _to_sort = np.random.rand(size)\n",
    "    \n",
    "    start = time.time()\n",
    "    np.sort(_to_sort)\n",
    "    end = time.time()\n",
    "    \n",
    "    np_sort[i] = end - start"
   ]
  },
  {
   "cell_type": "code",
   "execution_count": 14,
   "metadata": {},
   "outputs": [],
   "source": [
    "#collapse\n",
    "for i, size in enumerate(SIZES):\n",
    "    _to_sort = torch.rand(size)\n",
    "    \n",
    "    start = time.time()\n",
    "    torch.sort(_to_sort, descending=False)\n",
    "    end = time.time()\n",
    "    \n",
    "    torch_sort[i] = end - start"
   ]
  },
  {
   "cell_type": "markdown",
   "metadata": {},
   "source": [
    "## Matrix multiplication\n",
    "A naive procedure for multiplying two matrices can take up to $O(n^3)$ steps. Let's test how fast these frameworks have become in this aspect."
   ]
  },
  {
   "cell_type": "code",
   "execution_count": 15,
   "metadata": {},
   "outputs": [],
   "source": [
    "#collapse\n",
    "np_matmul = np.zeros(len(SIZES))\n",
    "torch_matmul = np.zeros(len(SIZES))\n",
    "tf_matmul = np.zeros(len(SIZES))"
   ]
  },
  {
   "cell_type": "markdown",
   "metadata": {},
   "source": [
    "It seems that, generally, TensorFlow objects are not assignable. That's why I used NumPy, then `tf.Variable` and lastly, `tf.convert_to_tensor` to get a tensor with the desired values."
   ]
  },
  {
   "cell_type": "code",
   "execution_count": 16,
   "metadata": {},
   "outputs": [],
   "source": [
    "#collapse-show\n",
    "for i, size in enumerate(SIZES):\n",
    "    _a = tf.random.uniform(shape=(1,size))\n",
    "    _b = tf.reshape(_a, shape=(size,1))\n",
    "    \n",
    "    start = time.time()\n",
    "    tf.linalg.matmul(_a, _b)\n",
    "    end = time.time()\n",
    "    \n",
    "    tf_matmul[i] = end - start"
   ]
  },
  {
   "cell_type": "code",
   "execution_count": 17,
   "metadata": {},
   "outputs": [],
   "source": [
    "#collapse\n",
    "for i, size in enumerate(SIZES):\n",
    "    _a = np.random.rand(size)\n",
    "    _b = _a.reshape(-1,1)\n",
    "    \n",
    "    start = time.time()\n",
    "    np.matmul(_a, _b)\n",
    "    end = time.time()\n",
    "    \n",
    "    np_matmul[i] = end - start"
   ]
  },
  {
   "cell_type": "code",
   "execution_count": 18,
   "metadata": {},
   "outputs": [],
   "source": [
    "#collapse\n",
    "for i, size in enumerate(SIZES):\n",
    "    _a = torch.rand(size)\n",
    "    _b = _a.reshape(-1,1)\n",
    "    \n",
    "    start = time.time()\n",
    "    torch.matmul(_a, _b)\n",
    "    end = time.time()\n",
    "    \n",
    "    torch_matmul[i] = end - start"
   ]
  },
  {
   "cell_type": "markdown",
   "metadata": {},
   "source": [
    "## Searching\n",
    "We will perform a linear search with a simple loop. In fact, this test will also assess the traverse speed of the different frameworks.\n",
    "\n",
    "I have coded the solution using a for loop because I've already know that the element to search is in the last position; hence, we can consider this loop as a counter loop where the number of iterations is known beforehand."
   ]
  },
  {
   "cell_type": "code",
   "execution_count": 19,
   "metadata": {},
   "outputs": [],
   "source": [
    "# the original sizes take too long\n",
    "SIZES_ = [10000, 50000, 100000, 500000, 1000000]"
   ]
  },
  {
   "cell_type": "code",
   "execution_count": 20,
   "metadata": {},
   "outputs": [],
   "source": [
    "#collapse\n",
    "np_search = np.zeros(len(SIZES_))\n",
    "torch_search = np.zeros(len(SIZES_))\n",
    "tf_search = np.zeros(len(SIZES_))"
   ]
  },
  {
   "cell_type": "markdown",
   "metadata": {},
   "source": [
    "It seems that, generally, TensorFlow objects are not assignable. That's why I used NumPy, then `tf.Variable` and lastly, `tf.convert_to_tensor` to get a tensor with the desired values."
   ]
  },
  {
   "cell_type": "code",
   "execution_count": 21,
   "metadata": {},
   "outputs": [],
   "source": [
    "#collapse-show\n",
    "for i, size in enumerate(SIZES_):\n",
    "    _np = np.zeros(size)\n",
    "    _np[-1] = 27\n",
    "    \n",
    "    _to_search = tf.convert_to_tensor(tf.Variable(_np))\n",
    "    \n",
    "    start = time.time()\n",
    "    \n",
    "    for j, element in enumerate(_to_search):\n",
    "        if element == 27:\n",
    "            end = time.time()\n",
    "    \n",
    "    tf_search[i] = end - start"
   ]
  },
  {
   "cell_type": "code",
   "execution_count": 22,
   "metadata": {},
   "outputs": [],
   "source": [
    "#collapse\n",
    "for i, size in enumerate(SIZES_):\n",
    "    _to_search = np.zeros(size)\n",
    "    _to_search[-1] = 27\n",
    "    \n",
    "    start = time.time()\n",
    "    \n",
    "    for j, element in enumerate(_to_search):\n",
    "        if element == 27:\n",
    "            end = time.time()\n",
    "    \n",
    "    np_search[i] = end - start"
   ]
  },
  {
   "cell_type": "code",
   "execution_count": 23,
   "metadata": {},
   "outputs": [],
   "source": [
    "#collapse\n",
    "for i, size in enumerate(SIZES_):\n",
    "    _to_search = torch.zeros(size)\n",
    "    _to_search[-1] = 27\n",
    "    \n",
    "    start = time.time()\n",
    "    \n",
    "    for j, element in enumerate(_to_search):\n",
    "        if element == 27:\n",
    "            end = time.time()\n",
    "    \n",
    "    torch_search[i] = end - start"
   ]
  },
  {
   "cell_type": "markdown",
   "metadata": {},
   "source": [
    "# Results"
   ]
  },
  {
   "cell_type": "code",
   "execution_count": 24,
   "metadata": {
    "scrolled": false
   },
   "outputs": [
    {
     "data": {
      "text/plain": [
       "<matplotlib.legend.Legend at 0x7fd569d9dac8>"
      ]
     },
     "execution_count": 24,
     "metadata": {},
     "output_type": "execute_result"
    },
    {
     "name": "stderr",
     "output_type": "stream",
     "text": [
      "WARNING: Logging before flag parsing goes to stderr.\n",
      "W1207 17:37:31.955271 4738452992 font_manager.py:1282] findfont: Font family ['Franklin Gothic Book'] not found. Falling back to DejaVu Sans.\n",
      "W1207 17:37:31.970885 4738452992 font_manager.py:1282] findfont: Font family ['Franklin Gothic Book'] not found. Falling back to DejaVu Sans.\n",
      "W1207 17:37:32.127390 4738452992 font_manager.py:1282] findfont: Font family ['Franklin Gothic Book'] not found. Falling back to DejaVu Sans.\n"
     ]
    },
    {
     "data": {
      "image/png": "[encoded data removed]",
      "text/plain": [
       "<Figure size 1224x864 with 4 Axes>"
      ]
     },
     "metadata": {},
     "output_type": "display_data"
    }
   ],
   "source": [
    "#collapse\n",
    "fig, ax = plt.subplots(nrows=2, ncols=2, figsize=(17,12))\n",
    "\n",
    "ax[0][0].plot(SIZES, np_creation, label=\"Numpy\")\n",
    "ax[0][0].plot(SIZES, torch_creation, label=\"PyTorch\")\n",
    "ax[0][0].plot(SIZES, tf_creation, label=\"TensorFlow\")\n",
    "ax[0][0].set_title(\"Creation\")\n",
    "\n",
    "ax[0][1].plot(SIZES, np_sort, label=\"Numpy\")\n",
    "ax[0][1].plot(SIZES, torch_sort, label=\"PyTorch\")\n",
    "ax[0][1].plot(SIZES, tf_sort, label=\"TensorFlow\")\n",
    "ax[0][1].set_title(\"Sorting\")\n",
    "\n",
    "ax[1][0].plot(SIZES_, np_search, label=\"Numpy\")\n",
    "ax[1][0].plot(SIZES_, torch_search, label=\"PyTorch\")\n",
    "ax[1][0].plot(SIZES_, tf_search, label=\"TensorFlow\")\n",
    "ax[1][0].set_title(\"Searching\")\n",
    "\n",
    "ax[1][1].plot(SIZES, np_matmul, label=\"Numpy\")\n",
    "ax[1][1].plot(SIZES, torch_matmul, label=\"PyTorch\")\n",
    "ax[1][1].plot(SIZES, tf_matmul, label=\"TensorFlow\")\n",
    "ax[1][1].set_title(\"Matmul\")\n",
    "\n",
    "lines, labels = fig.axes[-1].get_legend_handles_labels()\n",
    "fig.legend(lines, labels, loc = 'center', ncol=3, bbox_to_anchor=[0.4, 0.04], fontsize=23)"
   ]
  },
  {
   "cell_type": "markdown",
   "metadata": {},
   "source": [
    "I am surprised by how well NumPy performs in general. It is faster in everything except in the `creation` test. One possible explanation is that **NumPy is more optimized for the CPU**. Unfortunatelly, I do not have a GPU to test this and, even if I had one, NumPy does not support GPU execution natively.\n",
    "\n",
    "Regarding PyTorch and Tensorflow, I do not see a clear winner. Searching and sorting takes an insane amount of time for Tensorflow compared with the others, but I am running it in eager mode to make the code human-readible.\n",
    "\n",
    "# Which one should I use?\n",
    "There is no clear answer to that question because it depends on what you want to achieve. If you work in a Data Science field with Python, you would probably need to use NumPy even if you don't want to (though I can't image why you wouldn't want to).\n",
    "\n",
    "In terms of Deep Learning research, I think PyTorch is more well-suited than TensorFlow because it is easy to learn and to iterate over the models.\n",
    "\n",
    "Regarding Production-level code, I would consider TensorFlow (with eager mode deactivated) the best one. It is one of the oldest and a lot of services support TensorFlow integration."
   ]
  }
 ],
 "metadata": {
  "kernelspec": {
   "display_name": "Python 3",
   "language": "python",
   "name": "python3"
  },
  "language_info": {
   "codemirror_mode": {
    "name": "ipython",
    "version": 3
   },
   "file_extension": ".py",
   "mimetype": "text/x-python",
   "name": "python",
   "nbconvert_exporter": "python",
   "pygments_lexer": "ipython3",
   "version": "3.7.3"
  }
 },
 "nbformat": 4,
 "nbformat_minor": 2
}
